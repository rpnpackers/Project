{
 "cells": [
  {
   "cell_type": "code",
   "execution_count": null,
   "metadata": {},
   "outputs": [],
   "source": [
    "import requests\n",
    "    \n",
    "url = \"https://zylalabs.com/api/1586/household+income+by+zip+code+api/1273/get+income&zip=Required\"\n",
    "    \n",
    "header = {\n",
    "    'Authorization': 'Bearer 1082|nLnRsKKpsFfyUkInsw63w06F8PerLzHSpOUZNnbb'\n",
    "}\n",
    "\n",
    "\n",
    "payload = 54913\n",
    "response = requests.request(\"GET\", url=url, headers=header, data = payload)\n",
    "    \n",
    "print(response.text)\n"
   ]
  },
  {
   "cell_type": "code",
   "execution_count": 19,
   "metadata": {},
   "outputs": [
    {
     "data": {
      "text/plain": [
       "47659439"
      ]
     },
     "execution_count": 19,
     "metadata": {},
     "output_type": "execute_result"
    }
   ],
   "source": [
    "import json\n",
    "url = \"https://data.cityofchicago.org/api/views/pr57-gg9e/rows.json?accessType=DOWNLOAD\"\n",
    "\n",
    "data = requests.get(url).text\n",
    "\n",
    "info = json.loads(data)\n",
    "\n",
    "file = open(\"street_data.json\", \"w\")\n",
    "\n",
    "file.write(data)\n"
   ]
  },
  {
   "cell_type": "code",
   "execution_count": null,
   "metadata": {},
   "outputs": [],
   "source": []
  }
 ],
 "metadata": {
  "kernelspec": {
   "display_name": "Python 3",
   "language": "python",
   "name": "python3"
  },
  "language_info": {
   "codemirror_mode": {
    "name": "ipython",
    "version": 3
   },
   "file_extension": ".py",
   "mimetype": "text/x-python",
   "name": "python",
   "nbconvert_exporter": "python",
   "pygments_lexer": "ipython3",
   "version": "3.11.2"
  },
  "orig_nbformat": 4
 },
 "nbformat": 4,
 "nbformat_minor": 2
}
